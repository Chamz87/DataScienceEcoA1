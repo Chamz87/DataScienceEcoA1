{
 "cells": [
  {
   "cell_type": "markdown",
   "id": "039328f5-4c38-4c88-9591-2ca0d0cd248e",
   "metadata": {},
   "source": [
    "# Data Science Tools and Ecosystem"
   ]
  },
  {
   "cell_type": "markdown",
   "id": "921aec3a-4535-4b9a-bbde-3bcda774b85f",
   "metadata": {},
   "source": [
    "In this notebook, Data Science Tools and Ecosystem are summarized."
   ]
  },
  {
   "cell_type": "markdown",
   "id": "1e18285f-aa49-4e9c-8e91-0b9a9a8c6d18",
   "metadata": {
    "tags": []
   },
   "source": [
    "_Objectives_\n",
    "- List popular languages for data science\n",
    "- List commonly used libraries in data science\n",
    "- Data Science Tools\n",
    "- Arithmetic expressions\n"
   ]
  },
  {
   "cell_type": "markdown",
   "id": "09d76376-5b44-4494-8d51-aff6fac62489",
   "metadata": {},
   "source": [
    "Some of the popular languages that Data Scientists use are:\n",
    "1. R\n",
    "2. Python\n",
    "3. Julia\n"
   ]
  },
  {
   "cell_type": "markdown",
   "id": "7840ea38-92eb-42aa-b57e-326dce47ea8d",
   "metadata": {},
   "source": [
    "Some of the commonly used libraries used by Data Scientists include:\n",
    "1. Pandas\n",
    "2. SciPy\n",
    "3. Keras"
   ]
  },
  {
   "cell_type": "markdown",
   "id": "d5f14e38-02b0-4608-9cbb-8b809e6b66b4",
   "metadata": {},
   "source": [
    "|Data Science Tools |\n",
    "|Jupyter Notebook   |\n",
    "|R Studio           |\n",
    "|TensorFlow         |"
   ]
  },
  {
   "cell_type": "markdown",
   "id": "3d25f2b8-210d-4060-a3fd-186d4605a5a0",
   "metadata": {},
   "source": [
    "### Below are a few examples of evaluating arithmetic expressions in Python\n"
   ]
  },
  {
   "cell_type": "code",
   "execution_count": 1,
   "id": "45795c98-bec0-48bc-b0fd-d4999f9ad0f0",
   "metadata": {
    "tags": []
   },
   "outputs": [
    {
     "data": {
      "text/plain": [
       "17"
      ]
     },
     "execution_count": 1,
     "metadata": {},
     "output_type": "execute_result"
    }
   ],
   "source": [
    "# This a simple arithmetic expression to mutiply then add integers\n",
    "(3*4)+5"
   ]
  },
  {
   "cell_type": "code",
   "execution_count": 2,
   "id": "3db0e29d-8384-4ed3-a747-84e86f31c1e7",
   "metadata": {
    "tags": []
   },
   "outputs": [
    {
     "data": {
      "text/plain": [
       "3.3333333333333335"
      ]
     },
     "execution_count": 2,
     "metadata": {},
     "output_type": "execute_result"
    }
   ],
   "source": [
    "# This will convert 200 minutes to hours by diving by 60\n",
    "200/60"
   ]
  },
  {
   "cell_type": "markdown",
   "id": "6c5286d2-ec0a-4341-925b-8d4ff6eaf836",
   "metadata": {},
   "source": [
    "## Author\n",
    "Sandun Chamara Ellangage"
   ]
  }
 ],
 "metadata": {
  "kernelspec": {
   "display_name": "Python",
   "language": "python",
   "name": "conda-env-python-py"
  },
  "language_info": {
   "codemirror_mode": {
    "name": "ipython",
    "version": 3
   },
   "file_extension": ".py",
   "mimetype": "text/x-python",
   "name": "python",
   "nbconvert_exporter": "python",
   "pygments_lexer": "ipython3",
   "version": "3.7.12"
  }
 },
 "nbformat": 4,
 "nbformat_minor": 5
}
